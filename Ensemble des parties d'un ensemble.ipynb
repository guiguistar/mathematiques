{
 "cells": [
  {
   "cell_type": "markdown",
   "metadata": {},
   "source": [
    "# Ensemble des parties d'un ensemble"
   ]
  },
  {
   "cell_type": "markdown",
   "metadata": {},
   "source": [
    "## Ensembles"
   ]
  },
  {
   "cell_type": "code",
   "execution_count": 46,
   "metadata": {},
   "outputs": [
    {
     "data": {
      "text/plain": [
       "({1, 2, 3, 4, 5}, {1, 2, 3, 4, 5}, True)"
      ]
     },
     "execution_count": 46,
     "metadata": {},
     "output_type": "execute_result"
    }
   ],
   "source": [
    "A = set([1,2,3,4,5])\n",
    "B = set([5,4,3,2,2,2,1])\n",
    "\n",
    "A, B, A == B"
   ]
  },
  {
   "cell_type": "markdown",
   "metadata": {},
   "source": [
    "## Sous-ensembles (parties)"
   ]
  },
  {
   "cell_type": "code",
   "execution_count": 47,
   "metadata": {},
   "outputs": [
    {
     "data": {
      "text/plain": [
       "({2, 4}, True, False)"
      ]
     },
     "execution_count": 47,
     "metadata": {},
     "output_type": "execute_result"
    }
   ],
   "source": [
    "C = set([2,4])\n",
    "C, C.issubset(A), B.issubset(C)"
   ]
  },
  {
   "cell_type": "markdown",
   "metadata": {},
   "source": [
    "## Fonction caractérisque"
   ]
  },
  {
   "cell_type": "markdown",
   "metadata": {},
   "source": [
    "Soit $E$ un ensemble fini et $A\\subset E$. On appelle **fonction caractéristique** de $A$ la fonction $\\chi_{A}$ définie, pour $x\\in E$, par $\\begin{cases}\\chi_{A}(x)=1\\;\\textrm{si}\\;x\\in A\\\\\\chi_{A}(x)=0\\;\\textrm{si}\\;x\\notin A\\end{cases}$."
   ]
  },
  {
   "cell_type": "markdown",
   "metadata": {},
   "source": [
    "### Proposition\n",
    "La fonction $\\mathcal{P}(E)\\rightarrow \\{0,1\\}^{E}$ qui $A\\mapsto\\chi_{A}$ est une bijection.\n",
    "\n",
    "Cette bijection peut être utilisée pour implémenter une fonction permettant de trouver les parties d'un ensemble donné. Plus préciment on peut utiliser: $\\{0,1\\}^{\\{0,\\dots,n-1\\}}\\rightarrow \\{0,1\\}^{E}\\rightarrow \\mathcal{P}(E)$, où $n$ est le cardinal de $E$."
   ]
  },
  {
   "cell_type": "markdown",
   "metadata": {},
   "source": [
    "#### Détermination de $\\{0,1\\}^{\\{0,\\dots,n-1\\}}$\n",
    "$\\{0,1\\}^{\\{0,\\dots,n-1\\}}$ n'est rien d'autre que l'ensemble de tous les $n-$uplets constitués de $0$ ou de $1$. Par exemple $1101$ représente la fonction $\\left\\{\\begin{array}{l}0\\mapsto1\\\\1\\mapsto0\\\\2\\mapsto1\\\\3\\mapsto1\\end{array}\\right.$, Une façon astucieuse d'obtenir les $n-$uplets et d'utiliser la représentation binaire des nombres de $0$ à $2^{n}-1$:"
   ]
  },
  {
   "cell_type": "code",
   "execution_count": 48,
   "metadata": {},
   "outputs": [
    {
     "name": "stdout",
     "output_type": "stream",
     "text": [
      "0b0\n",
      "0b1\n",
      "0b10\n",
      "0b11\n",
      "0b100\n",
      "0b101\n",
      "0b110\n",
      "0b111\n",
      "0b1000\n",
      "0b1001\n",
      "0b1010\n",
      "0b1011\n",
      "0b1100\n",
      "0b1101\n",
      "0b1110\n",
      "0b1111\n"
     ]
    }
   ],
   "source": [
    "def n_uplets(n):\n",
    "    for i in range(2**n):\n",
    "        print(bin(i))\n",
    "n_uplets(4)"
   ]
  },
  {
   "cell_type": "markdown",
   "metadata": {},
   "source": [
    "On peut enlever le **0b** et compléter par des **0**:"
   ]
  },
  {
   "cell_type": "code",
   "execution_count": null,
   "metadata": {},
   "outputs": [],
   "source": []
  },
  {
   "cell_type": "code",
   "execution_count": 49,
   "metadata": {},
   "outputs": [
    {
     "name": "stdout",
     "output_type": "stream",
     "text": [
      "0000\n",
      "0001\n",
      "0010\n",
      "0011\n",
      "0100\n",
      "0101\n",
      "0110\n",
      "0111\n",
      "1000\n",
      "1001\n",
      "1010\n",
      "1011\n",
      "1100\n",
      "1101\n",
      "1110\n",
      "1111\n"
     ]
    }
   ],
   "source": [
    "def joli_tuple_str(i, n):\n",
    "    return bin(i)[2:].rjust(n,'0')\n",
    "def n_uplets(n):\n",
    "    for i in range(2**n):\n",
    "        print(joli_tuple_str(i,n))\n",
    "n_uplets(4)"
   ]
  },
  {
   "cell_type": "markdown",
   "metadata": {},
   "source": [
    "Le petit inconvénient ici est que la liste n'est pas trier en fonction du nombre de $1$."
   ]
  },
  {
   "cell_type": "markdown",
   "metadata": {},
   "source": [
    "#### Passage de $\\{0,1\\}^{\\{0,\\dots,n-1\\}}$ à $\\{0,1\\}^{E}$"
   ]
  },
  {
   "cell_type": "markdown",
   "metadata": {},
   "source": [
    "Il faut commencer par numéroter les éléments de $E$."
   ]
  },
  {
   "cell_type": "code",
   "execution_count": 52,
   "metadata": {},
   "outputs": [
    {
     "data": {
      "text/plain": [
       "({'a', 'b', '∀', '♠', '🌻'}, ['b', '🌻', 'a', '∀', '♠'], 1)"
      ]
     },
     "execution_count": 52,
     "metadata": {},
     "output_type": "execute_result"
    }
   ],
   "source": [
    "E = set(['a','b','♠','🌻','∀'])\n",
    "E_ = list(E)\n",
    "\n",
    "E, E_, E_.index('🌻')"
   ]
  },
  {
   "cell_type": "markdown",
   "metadata": {},
   "source": [
    "On obtient, par exemple, la correspondance:"
   ]
  },
  {
   "cell_type": "code",
   "execution_count": 53,
   "metadata": {},
   "outputs": [
    {
     "name": "stdout",
     "output_type": "stream",
     "text": [
      "Pour le tuple 10011 on obtient:\n",
      "\n",
      "0 |-----> 1           b |-----> 1\n",
      "1 |-----> 1           🌻 |-----> 1\n",
      "2 |-----> 0  devient  a |-----> 0\n",
      "3 |-----> 0           ∀ |-----> 0\n",
      "4 |-----> 1           ♠ |-----> 1\n"
     ]
    }
   ],
   "source": [
    "import random\n",
    "\n",
    "n_uplet = joli_tuple_str(random.randrange(2**len(E)),len(E))\n",
    "\n",
    "print('Pour le tuple', n_uplet, 'on obtient:\\n')\n",
    "for i in range(len(E_)):\n",
    "    print(f'{i} |-----> {n_uplet[-1-i]}  {\"devient\" if i == len(E)//2 else 7*\" \"}  {E_[i]} |-----> {n_uplet[-1-i]}')"
   ]
  },
  {
   "cell_type": "markdown",
   "metadata": {},
   "source": [
    "#### Passage de $\\{0,1\\}^{E}$ à $\\mathcal(P](E)$"
   ]
  },
  {
   "cell_type": "markdown",
   "metadata": {},
   "source": [
    "On se souvient que les tuples sont simplement des nombres compris entre $0$ et $2^{n-1}$, que l'on écrit en binaire. Si le $i-$ème bit de la représentation binaire est $1$ alors le $i-$ème éléments appartient au sous-ensemble. On parcourt alors chaque élément pour savoir si le bit correspondant vaut $1$."
   ]
  },
  {
   "cell_type": "code",
   "execution_count": 54,
   "metadata": {},
   "outputs": [
    {
     "data": {
      "text/plain": [
       "['b', '🌻', '♠']"
      ]
     },
     "execution_count": 54,
     "metadata": {},
     "output_type": "execute_result"
    }
   ],
   "source": [
    "def creer_sous_liste(nombre, liste):\n",
    "    partie = list() # set ?\n",
    "    for i in range(len(liste)):\n",
    "        masque = (1 << i) # :D\n",
    "        if masque & nombre:\n",
    "            partie.append(liste[i])\n",
    "    return partie\n",
    "\n",
    "creer_sous_liste(int(n_uplet,2), E_)"
   ]
  },
  {
   "cell_type": "code",
   "execution_count": 11,
   "metadata": {},
   "outputs": [],
   "source": [
    "def P(liste):\n",
    "    liste = list(liste)\n",
    "    parties = list()\n",
    "    for i in range(2**len(liste)):\n",
    "        partie = list()\n",
    "        #print(list(map(int,list(bin(i)[2:].rjust(len(liste),'0')))))\n",
    "        for j in range(len(liste)):\n",
    "            if (1 << j) & i:\n",
    "                partie.append(liste[j])\n",
    "        parties.append(partie)\n",
    "    return sorted(parties, key=len)        "
   ]
  },
  {
   "cell_type": "code",
   "execution_count": 12,
   "metadata": {
    "scrolled": true
   },
   "outputs": [
    {
     "data": {
      "text/plain": [
       "({1, 2, 3, 4, 5},\n",
       " [[],\n",
       "  [1],\n",
       "  [2],\n",
       "  [3],\n",
       "  [4],\n",
       "  [5],\n",
       "  [1, 2],\n",
       "  [1, 3],\n",
       "  [2, 3],\n",
       "  [1, 4],\n",
       "  [2, 4],\n",
       "  [3, 4],\n",
       "  [1, 5],\n",
       "  [2, 5],\n",
       "  [3, 5],\n",
       "  [4, 5],\n",
       "  [1, 2, 3],\n",
       "  [1, 2, 4],\n",
       "  [1, 3, 4],\n",
       "  [2, 3, 4],\n",
       "  [1, 2, 5],\n",
       "  [1, 3, 5],\n",
       "  [2, 3, 5],\n",
       "  [1, 4, 5],\n",
       "  [2, 4, 5],\n",
       "  [3, 4, 5],\n",
       "  [1, 2, 3, 4],\n",
       "  [1, 2, 3, 5],\n",
       "  [1, 2, 4, 5],\n",
       "  [1, 3, 4, 5],\n",
       "  [2, 3, 4, 5],\n",
       "  [1, 2, 3, 4, 5]])"
      ]
     },
     "execution_count": 12,
     "metadata": {},
     "output_type": "execute_result"
    }
   ],
   "source": [
    "A, P(A)"
   ]
  },
  {
   "cell_type": "code",
   "execution_count": null,
   "metadata": {},
   "outputs": [],
   "source": []
  }
 ],
 "metadata": {
  "kernelspec": {
   "display_name": "Python 3",
   "language": "python",
   "name": "python3"
  },
  "language_info": {
   "codemirror_mode": {
    "name": "ipython",
    "version": 3
   },
   "file_extension": ".py",
   "mimetype": "text/x-python",
   "name": "python",
   "nbconvert_exporter": "python",
   "pygments_lexer": "ipython3",
   "version": "3.7.3"
  }
 },
 "nbformat": 4,
 "nbformat_minor": 2
}
