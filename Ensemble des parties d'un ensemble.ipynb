{
 "cells": [
  {
   "cell_type": "markdown",
   "metadata": {},
   "source": [
    "# Ensemble des parties d'un ensemble"
   ]
  },
  {
   "cell_type": "markdown",
   "metadata": {},
   "source": [
    "## Ensembles"
   ]
  },
  {
   "cell_type": "code",
   "execution_count": 46,
   "metadata": {},
   "outputs": [
    {
     "data": {
      "text/plain": [
       "({1, 2, 3, 4, 5}, {1, 2, 3, 4, 5}, True)"
      ]
     },
     "execution_count": 46,
     "metadata": {},
     "output_type": "execute_result"
    }
   ],
   "source": [
    "A = set([1,2,3,4,5])\n",
    "B = set([5,4,3,2,2,2,1])\n",
    "\n",
    "A, B, A == B"
   ]
  },
  {
   "cell_type": "markdown",
   "metadata": {},
   "source": [
    "## Sous-ensembles (parties)"
   ]
  },
  {
   "cell_type": "code",
   "execution_count": 47,
   "metadata": {},
   "outputs": [
    {
     "data": {
      "text/plain": [
       "({2, 4}, True, False)"
      ]
     },
     "execution_count": 47,
     "metadata": {},
     "output_type": "execute_result"
    }
   ],
   "source": [
    "C = set([2,4])\n",
    "C, C.issubset(A), B.issubset(C)"
   ]
  },
  {
   "cell_type": "markdown",
   "metadata": {},
   "source": [
    "## Fonction caractérisque et sous-ensembles"
   ]
  },
  {
   "cell_type": "markdown",
   "metadata": {},
   "source": [
    "Soit $E$ un ensemble fini et $A\\subset E$. On appelle **fonction caractéristique** de $A$ la fonction $\\chi_{A}$ définie, pour $x\\in E$, par $\\begin{cases}\\chi_{A}(x)=1\\;\\textrm{si}\\;x\\in A\\\\\\chi_{A}(x)=0\\;\\textrm{si}\\;x\\notin A\\end{cases}$."
   ]
  },
  {
   "cell_type": "markdown",
   "metadata": {},
   "source": [
    "### Proposition\n",
    "La fonction $\\mathcal{P}(E)\\rightarrow \\{0,1\\}^{E}$ qui $A\\mapsto\\chi_{A}$ est une bijection.\n",
    "\n",
    "Cette bijection peut être utilisée pour implémenter une fonction permettant de trouver les parties d'un ensemble donné. Plus préciment on peut utiliser: $\\{0,1\\}^{\\{0,\\dots,n-1\\}}\\rightarrow \\{0,1\\}^{E}\\rightarrow \\mathcal{P}(E)$, où $n$ est le cardinal de $E$."
   ]
  },
  {
   "cell_type": "markdown",
   "metadata": {},
   "source": [
    "### Détermination de $\\{0,1\\}^{\\{0,\\dots,n-1\\}}$\n",
    "$\\{0,1\\}^{\\{0,\\dots,n-1\\}}$ n'est rien d'autre que l'ensemble de tous les $n-$uplets constitués de $0$ ou de $1$. Par exemple $1101$ représente la fonction $\\left\\{\\begin{array}{l}0\\mapsto1\\\\1\\mapsto0\\\\2\\mapsto1\\\\3\\mapsto1\\end{array}\\right.$, Une façon astucieuse d'obtenir les $n-$uplets et d'utiliser la représentation binaire des nombres de $0$ à $2^{n}-1$:"
   ]
  },
  {
   "cell_type": "code",
   "execution_count": 48,
   "metadata": {},
   "outputs": [
    {
     "name": "stdout",
     "output_type": "stream",
     "text": [
      "0b0\n",
      "0b1\n",
      "0b10\n",
      "0b11\n",
      "0b100\n",
      "0b101\n",
      "0b110\n",
      "0b111\n",
      "0b1000\n",
      "0b1001\n",
      "0b1010\n",
      "0b1011\n",
      "0b1100\n",
      "0b1101\n",
      "0b1110\n",
      "0b1111\n"
     ]
    }
   ],
   "source": [
    "def n_uplets(n):\n",
    "    for i in range(2**n):\n",
    "        print(bin(i))\n",
    "n_uplets(4)"
   ]
  },
  {
   "cell_type": "markdown",
   "metadata": {},
   "source": [
    "On peut enlever le **0b** et compléter par des **0**:"
   ]
  },
  {
   "cell_type": "code",
   "execution_count": 2,
   "metadata": {},
   "outputs": [
    {
     "name": "stdout",
     "output_type": "stream",
     "text": [
      "0000\n",
      "0001\n",
      "0010\n",
      "0011\n",
      "0100\n",
      "0101\n",
      "0110\n",
      "0111\n",
      "1000\n",
      "1001\n",
      "1010\n",
      "1011\n",
      "1100\n",
      "1101\n",
      "1110\n",
      "1111\n"
     ]
    }
   ],
   "source": [
    "def joli_n_uplet_str(i, n):\n",
    "    return bin(i)[2:].rjust(n,'0')\n",
    "def n_uplets(n):\n",
    "    for i in range(2**n):\n",
    "        print(joli_n_uplet_str(i,n))\n",
    "n_uplets(4)"
   ]
  },
  {
   "cell_type": "markdown",
   "metadata": {},
   "source": [
    "Le petit inconvénient ici est que la liste n'est pas trier en fonction du nombre de $1$."
   ]
  },
  {
   "cell_type": "markdown",
   "metadata": {},
   "source": [
    "### Passage de $\\{0,1\\}^{\\{0,\\dots,n-1\\}}$ à $\\{0,1\\}^{E}$"
   ]
  },
  {
   "cell_type": "markdown",
   "metadata": {},
   "source": [
    "Il faut commencer par numéroter les éléments de $E$."
   ]
  },
  {
   "cell_type": "code",
   "execution_count": 4,
   "metadata": {},
   "outputs": [
    {
     "data": {
      "text/plain": [
       "({'a', 'b', '∀', '♠', '🌻'}, ['b', '∀', '🌻', '♠', 'a'], 2)"
      ]
     },
     "execution_count": 4,
     "metadata": {},
     "output_type": "execute_result"
    }
   ],
   "source": [
    "E = set(['a','b','♠','🌻','∀'])\n",
    "E_ = list(E)\n",
    "\n",
    "E, E_, E_.index('🌻')"
   ]
  },
  {
   "cell_type": "markdown",
   "metadata": {},
   "source": [
    "On obtient, par exemple, la correspondance:"
   ]
  },
  {
   "cell_type": "code",
   "execution_count": 8,
   "metadata": {},
   "outputs": [
    {
     "name": "stdout",
     "output_type": "stream",
     "text": [
      "Pour le tuple 01110 on obtient:\n",
      "\n",
      "0 |-----> 0           b |-----> 0\n",
      "1 |-----> 1           ∀ |-----> 1\n",
      "2 |-----> 1  devient  🌻 |-----> 1\n",
      "3 |-----> 1           ♠ |-----> 1\n",
      "4 |-----> 0           a |-----> 0\n"
     ]
    }
   ],
   "source": [
    "import random\n",
    "\n",
    "n_uplet = joli_n_uplet_str(random.randrange(2**len(E)),len(E))\n",
    "\n",
    "print('Pour le tuple', n_uplet, 'on obtient:\\n')\n",
    "for i in range(len(E_)):\n",
    "    print(f'{i} |-----> {n_uplet[-1-i]}  {\"devient\" if i == len(E)//2 else 7*\" \"}  {E_[i]} |-----> {n_uplet[-1-i]}')"
   ]
  },
  {
   "cell_type": "markdown",
   "metadata": {},
   "source": [
    "### Passage de $\\{0,1\\}^{E}$ à $\\mathcal{P}(E)$"
   ]
  },
  {
   "cell_type": "markdown",
   "metadata": {},
   "source": [
    "On se souvient que les tuples sont simplement des nombres compris entre $0$ et $2^{n-1}$, que l'on écrit en binaire. Si le $i-$ème bit de la représentation binaire est $1$ alors le $i-$ème éléments appartient au sous-ensemble. On parcourt alors chaque élément pour savoir si le bit correspondant vaut $1$."
   ]
  },
  {
   "cell_type": "code",
   "execution_count": 60,
   "metadata": {},
   "outputs": [
    {
     "data": {
      "text/plain": [
       "['b', 'a', '♠']"
      ]
     },
     "execution_count": 60,
     "metadata": {},
     "output_type": "execute_result"
    }
   ],
   "source": [
    "def creer_sous_liste(n_uplet, liste):\n",
    "    partie = list() # set ?\n",
    "    for i in range(len(liste)):\n",
    "        masque = (1 << i) # :D\n",
    "        if masque & n_uplet:\n",
    "            partie.append(liste[i])\n",
    "    return partie\n",
    "\n",
    "creer_sous_liste(int(n_uplet,2), E_)"
   ]
  },
  {
   "cell_type": "code",
   "execution_count": 61,
   "metadata": {},
   "outputs": [
    {
     "data": {
      "text/plain": [
       "{'a', 'b', '♠'}"
      ]
     },
     "execution_count": 61,
     "metadata": {},
     "output_type": "execute_result"
    }
   ],
   "source": [
    "def creer_sous_ensemble(n_uplet, liste):\n",
    "    return set(creer_sous_liste(n_uplet, liste))\n",
    "\n",
    "creer_sous_ensemble(int(n_uplet,2), E_)"
   ]
  },
  {
   "cell_type": "markdown",
   "metadata": {},
   "source": [
    "### Détermination de tous les sous-ensembles"
   ]
  },
  {
   "cell_type": "code",
   "execution_count": 92,
   "metadata": {},
   "outputs": [],
   "source": [
    "def liste_sous_ensembles(ensemble):\n",
    "    liste = list(ensemble) # on numérote chaque élément (indice)\n",
    "    parties = list()\n",
    "    for n_uplet in range(2**len(liste)): # tous les n_uplets possibles\n",
    "        #print(list(map(int,list(joli_n_uplet(len(liste),'0')))))\n",
    "        parties.append(creer_sous_ensemble(n_uplet, liste))\n",
    "    return sorted(parties, key=len)        "
   ]
  },
  {
   "cell_type": "code",
   "execution_count": 93,
   "metadata": {
    "scrolled": true
   },
   "outputs": [
    {
     "data": {
      "text/plain": [
       "({'a', 'b', '∀', '♠', '🌻'},\n",
       " [set(),\n",
       "  {'b'},\n",
       "  {'🌻'},\n",
       "  {'a'},\n",
       "  {'∀'},\n",
       "  {'♠'},\n",
       "  {'b', '🌻'},\n",
       "  {'a', 'b'},\n",
       "  {'a', '🌻'},\n",
       "  {'b', '∀'},\n",
       "  {'∀', '🌻'},\n",
       "  {'a', '∀'},\n",
       "  {'b', '♠'},\n",
       "  {'♠', '🌻'},\n",
       "  {'a', '♠'},\n",
       "  {'∀', '♠'},\n",
       "  {'a', 'b', '🌻'},\n",
       "  {'b', '∀', '🌻'},\n",
       "  {'a', 'b', '∀'},\n",
       "  {'a', '∀', '🌻'},\n",
       "  {'b', '♠', '🌻'},\n",
       "  {'a', 'b', '♠'},\n",
       "  {'a', '♠', '🌻'},\n",
       "  {'b', '∀', '♠'},\n",
       "  {'∀', '♠', '🌻'},\n",
       "  {'a', '∀', '♠'},\n",
       "  {'a', 'b', '∀', '🌻'},\n",
       "  {'a', 'b', '♠', '🌻'},\n",
       "  {'b', '∀', '♠', '🌻'},\n",
       "  {'a', 'b', '∀', '♠'},\n",
       "  {'a', '∀', '♠', '🌻'},\n",
       "  {'a', 'b', '∀', '♠', '🌻'}])"
      ]
     },
     "execution_count": 93,
     "metadata": {},
     "output_type": "execute_result"
    }
   ],
   "source": [
    "P = liste_sous_ensembles(E)\n",
    "E, P"
   ]
  },
  {
   "cell_type": "markdown",
   "metadata": {},
   "source": [
    "On remarque que l'ensemble vide apparaît sous la forme **set()**. On remarque aussi que l'on ne peut pas faire d'ensembles d'ensembles en python:"
   ]
  },
  {
   "cell_type": "code",
   "execution_count": 96,
   "metadata": {},
   "outputs": [
    {
     "name": "stdout",
     "output_type": "stream",
     "text": [
      "unhashable type: 'set'\n"
     ]
    }
   ],
   "source": [
    "try:\n",
    "    set(P) # on essaie de faire un ensemble à partir de la liste d'ensembles\n",
    "except TypeError as err:\n",
    "    print(err)"
   ]
  },
  {
   "cell_type": "markdown",
   "metadata": {},
   "source": [
    "On peut choisir une partie au hasard:"
   ]
  },
  {
   "cell_type": "code",
   "execution_count": 80,
   "metadata": {},
   "outputs": [
    {
     "data": {
      "text/plain": [
       "{'b'}"
      ]
     },
     "execution_count": 80,
     "metadata": {},
     "output_type": "execute_result"
    }
   ],
   "source": [
    "a = random.choice(X)\n",
    "a"
   ]
  },
  {
   "cell_type": "markdown",
   "metadata": {},
   "source": [
    "Et en prendre le complémentaire dans $E$:"
   ]
  },
  {
   "cell_type": "code",
   "execution_count": 81,
   "metadata": {},
   "outputs": [
    {
     "data": {
      "text/plain": [
       "{'a', '∀', '♠', '🌻'}"
      ]
     },
     "execution_count": 81,
     "metadata": {},
     "output_type": "execute_result"
    }
   ],
   "source": [
    "E - a"
   ]
  },
  {
   "cell_type": "code",
   "execution_count": 82,
   "metadata": {},
   "outputs": [
    {
     "data": {
      "text/plain": [
       "True"
      ]
     },
     "execution_count": 82,
     "metadata": {},
     "output_type": "execute_result"
    }
   ],
   "source": [
    "(E - a).issubset(E)"
   ]
  },
  {
   "cell_type": "markdown",
   "metadata": {},
   "source": [
    "## Exercices"
   ]
  },
  {
   "cell_type": "markdown",
   "metadata": {},
   "source": [
    "### Sous-ensembles d'un cardinal donné\n",
    "Etant donné un ensemble fini $E$, écrire une fonction qui retourne la liste de tous les sous-ensembles d'un cardinal donné."
   ]
  },
  {
   "cell_type": "code",
   "execution_count": 94,
   "metadata": {},
   "outputs": [
    {
     "data": {
      "text/plain": [
       "[{'b', '🌻'},\n",
       " {'a', 'b'},\n",
       " {'a', '🌻'},\n",
       " {'b', '∀'},\n",
       " {'∀', '🌻'},\n",
       " {'a', '∀'},\n",
       " {'b', '♠'},\n",
       " {'♠', '🌻'},\n",
       " {'a', '♠'},\n",
       " {'∀', '♠'}]"
      ]
     },
     "execution_count": 94,
     "metadata": {},
     "output_type": "execute_result"
    }
   ],
   "source": [
    "def liste_sous_ensembles_cardinal(ensemble, cardinal):\n",
    "    return list(filter(lambda A: len(A) == cardinal, liste_sous_ensembles(E)))\n",
    "\n",
    "liste_sous_ensembles_cardinal(E,2)"
   ]
  },
  {
   "cell_type": "markdown",
   "metadata": {},
   "source": [
    "### Stabilité par passage au complémentaire\n",
    "Ecrire une fonction qui prend en paramètre un ensemble et une liste de certains de ses sous-ensembles et qui retourne **True** si la liste contient le complémentaire de chaque élément de la liste et **False** sinon."
   ]
  },
  {
   "cell_type": "code",
   "execution_count": 107,
   "metadata": {},
   "outputs": [],
   "source": [
    "def stabilite_complementaire(ensemble, liste):\n",
    "    stables = [(ensemble - ens) in liste for ens in liste]\n",
    "    return all(stables)"
   ]
  },
  {
   "cell_type": "code",
   "execution_count": 108,
   "metadata": {},
   "outputs": [
    {
     "data": {
      "text/plain": [
       "(True, False)"
      ]
     },
     "execution_count": 108,
     "metadata": {},
     "output_type": "execute_result"
    }
   ],
   "source": [
    "A = set([10,20,30,40])\n",
    "l1 = [set([10]), set([20,30,40])]\n",
    "l2 = [set([10]), set([20,30])]\n",
    "\n",
    "stabilite_complementaire(A, l1), stabilite_complementaire(A, l2)"
   ]
  },
  {
   "cell_type": "code",
   "execution_count": null,
   "metadata": {},
   "outputs": [],
   "source": []
  }
 ],
 "metadata": {
  "kernelspec": {
   "display_name": "Python 3",
   "language": "python",
   "name": "python3"
  },
  "language_info": {
   "codemirror_mode": {
    "name": "ipython",
    "version": 3
   },
   "file_extension": ".py",
   "mimetype": "text/x-python",
   "name": "python",
   "nbconvert_exporter": "python",
   "pygments_lexer": "ipython3",
   "version": "3.8.3"
  }
 },
 "nbformat": 4,
 "nbformat_minor": 2
}
