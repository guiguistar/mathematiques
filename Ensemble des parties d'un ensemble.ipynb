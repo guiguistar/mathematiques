{
 "cells": [
  {
   "cell_type": "markdown",
   "metadata": {},
   "source": [
    "# Ensemble des parties d'un ensemble"
   ]
  },
  {
   "cell_type": "markdown",
   "metadata": {},
   "source": [
    "## Ensembles"
   ]
  },
  {
   "cell_type": "code",
   "execution_count": 36,
   "metadata": {},
   "outputs": [
    {
     "data": {
      "text/plain": [
       "({1, 2, 3, 4, 5}, {1, 2, 3, 4, 5}, True)"
      ]
     },
     "execution_count": 36,
     "metadata": {},
     "output_type": "execute_result"
    }
   ],
   "source": [
    "A = set([1,2,3,4,5])\n",
    "B = set([5,4,3,2,2,2,1])\n",
    "\n",
    "A, B, A == B"
   ]
  },
  {
   "cell_type": "markdown",
   "metadata": {},
   "source": [
    "## Sous-ensembles (parties)"
   ]
  },
  {
   "cell_type": "code",
   "execution_count": 37,
   "metadata": {},
   "outputs": [
    {
     "data": {
      "text/plain": [
       "({2, 4}, True, False)"
      ]
     },
     "execution_count": 37,
     "metadata": {},
     "output_type": "execute_result"
    }
   ],
   "source": [
    "C = set([2,4])\n",
    "C, C.issubset(A), B.issubset(C)"
   ]
  },
  {
   "cell_type": "markdown",
   "metadata": {},
   "source": [
    "## Fonction caractérisque"
   ]
  },
  {
   "cell_type": "markdown",
   "metadata": {},
   "source": [
    "Soit $E$ un ensemble fini et $A\\subset E$. On appelle **fonction caractéristique** de $A$ la fonction $\\chi_{A}$ définie, pour $x\\in E$, par $\\begin{cases}\\chi_{A}(x)=1\\;\\textrm{si}\\;x\\in A\\\\\\chi_{A}(x)=0\\;\\textrm{si}\\;x\\notin A\\end{cases}$."
   ]
  },
  {
   "cell_type": "markdown",
   "metadata": {},
   "source": [
    "### Proposition\n",
    "La fonction $\\mathcal{P}(E)\\rightarrow \\{0,1\\}^{E}$ qui $A\\mapsto\\chi_{A}$ est une bijection."
   ]
  },
  {
   "cell_type": "code",
   "execution_count": 56,
   "metadata": {},
   "outputs": [],
   "source": [
    "def P(liste):\n",
    "    liste = list(liste)\n",
    "    parties = list()\n",
    "    for i in range(2**len(liste)):\n",
    "        partie = list()\n",
    "        #print(list(map(int,list(bin(i)[2:].rjust(len(liste),'0')))))\n",
    "        for j in range(len(liste)):\n",
    "            if (1 << j) & i:\n",
    "                partie.append(liste[j])\n",
    "        parties.append(partie)\n",
    "    return parties\n",
    "        "
   ]
  },
  {
   "cell_type": "code",
   "execution_count": 59,
   "metadata": {
    "scrolled": true
   },
   "outputs": [
    {
     "data": {
      "text/plain": [
       "({1, 2, 3, 4, 5},\n",
       " [[],\n",
       "  [1],\n",
       "  [2],\n",
       "  [1, 2],\n",
       "  [3],\n",
       "  [1, 3],\n",
       "  [2, 3],\n",
       "  [1, 2, 3],\n",
       "  [4],\n",
       "  [1, 4],\n",
       "  [2, 4],\n",
       "  [1, 2, 4],\n",
       "  [3, 4],\n",
       "  [1, 3, 4],\n",
       "  [2, 3, 4],\n",
       "  [1, 2, 3, 4],\n",
       "  [5],\n",
       "  [1, 5],\n",
       "  [2, 5],\n",
       "  [1, 2, 5],\n",
       "  [3, 5],\n",
       "  [1, 3, 5],\n",
       "  [2, 3, 5],\n",
       "  [1, 2, 3, 5],\n",
       "  [4, 5],\n",
       "  [1, 4, 5],\n",
       "  [2, 4, 5],\n",
       "  [1, 2, 4, 5],\n",
       "  [3, 4, 5],\n",
       "  [1, 3, 4, 5],\n",
       "  [2, 3, 4, 5],\n",
       "  [1, 2, 3, 4, 5]])"
      ]
     },
     "execution_count": 59,
     "metadata": {},
     "output_type": "execute_result"
    }
   ],
   "source": [
    "A, P(A)"
   ]
  },
  {
   "cell_type": "code",
   "execution_count": null,
   "metadata": {},
   "outputs": [],
   "source": []
  }
 ],
 "metadata": {
  "kernelspec": {
   "display_name": "Python 3",
   "language": "python",
   "name": "python3"
  },
  "language_info": {
   "codemirror_mode": {
    "name": "ipython",
    "version": 3
   },
   "file_extension": ".py",
   "mimetype": "text/x-python",
   "name": "python",
   "nbconvert_exporter": "python",
   "pygments_lexer": "ipython3",
   "version": "3.7.3"
  }
 },
 "nbformat": 4,
 "nbformat_minor": 2
}
