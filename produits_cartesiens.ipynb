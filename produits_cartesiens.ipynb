{
 "cells": [
  {
   "cell_type": "markdown",
   "metadata": {},
   "source": [
    "# Produit cartésien de deux ensembles"
   ]
  },
  {
   "cell_type": "markdown",
   "metadata": {},
   "source": [
    "## Pré-requis\n",
    "+ ensembles"
   ]
  },
  {
   "cell_type": "markdown",
   "metadata": {},
   "source": [
    "## Définition\n",
    "\n",
    "Soit $A$ et $B$ deux ensembles. On appelle produit cartésien de $A$ et de $B$, que l'on note $A\\times B$, l'ensemble défini par:\n",
    "$$ A\\times B:=\\lbrace(a,b)\\;|\\;a\\in A\\textrm{ et }b\\in B\\rbrace $$"
   ]
  },
  {
   "cell_type": "code",
   "execution_count": 9,
   "metadata": {},
   "outputs": [],
   "source": [
    "    def produit_cartesien(A, B):\n",
    "        produit = set() # ensemble vide\n",
    "        for a in A: # pour n'importe quel élément de A et\n",
    "            for b in B: # n'importe quel élément de B\n",
    "                produit.add((a, b))\n",
    "        return produit"
   ]
  },
  {
   "cell_type": "markdown",
   "metadata": {},
   "source": [
    "## Exercices"
   ]
  },
  {
   "cell_type": "markdown",
   "metadata": {},
   "source": [
    "### Exercice 1\n",
    "1. Créer un ensemble $A=\\lbrace 1, 2, 3\\rbrace$ et un ensemble $B=\\lbrace 10, 20, 30, 40\\rbrace$."
   ]
  },
  {
   "cell_type": "code",
   "execution_count": 11,
   "metadata": {},
   "outputs": [],
   "source": [
    "# Réponse (voir comment cacher cela)\n",
    "A = set([1,2,3])\n",
    "B = set([10,20,30])"
   ]
  },
  {
   "cell_type": "markdown",
   "metadata": {},
   "source": [
    "2. Créer le produit cartésien $A\\times B$ et l'afficher."
   ]
  },
  {
   "cell_type": "code",
   "execution_count": 10,
   "metadata": {},
   "outputs": [
    {
     "name": "stdout",
     "output_type": "stream",
     "text": [
      "{(3, 30), (2, 20), (2, 10), (1, 30), (3, 20), (1, 20), (3, 10), (1, 10), (2, 30)}\n"
     ]
    }
   ],
   "source": [
    "# Réonse (voir comment cacher cela)\n",
    "AxB = produit_cartesien(A,B)\n",
    "print(AxB)"
   ]
  },
  {
   "cell_type": "markdown",
   "metadata": {},
   "source": [
    "3. Déterminer le cardinal de $A\\times B$."
   ]
  },
  {
   "cell_type": "code",
   "execution_count": 12,
   "metadata": {},
   "outputs": [
    {
     "name": "stdout",
     "output_type": "stream",
     "text": [
      "9\n"
     ]
    }
   ],
   "source": [
    "# Réponse\n",
    "print(len(AxB))"
   ]
  }
 ],
 "metadata": {
  "kernelspec": {
   "display_name": "Python 3",
   "language": "python",
   "name": "python3"
  },
  "language_info": {
   "codemirror_mode": {
    "name": "ipython",
    "version": 3
   },
   "file_extension": ".py",
   "mimetype": "text/x-python",
   "name": "python",
   "nbconvert_exporter": "python",
   "pygments_lexer": "ipython3",
   "version": "3.8.3"
  }
 },
 "nbformat": 4,
 "nbformat_minor": 4
}
