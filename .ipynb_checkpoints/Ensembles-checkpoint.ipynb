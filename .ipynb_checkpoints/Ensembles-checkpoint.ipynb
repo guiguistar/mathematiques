{
 "cells": [
  {
   "cell_type": "markdown",
   "metadata": {},
   "source": [
    "# Ensembles"
   ]
  },
  {
   "cell_type": "markdown",
   "metadata": {},
   "source": [
    "On aimerait bien pouvoir illustrer la théorie naïve des ensembles en python... Au moins jusqu'à l'ensemble des parties d'un ensemble. "
   ]
  },
  {
   "cell_type": "markdown",
   "metadata": {},
   "source": [
    "## Sommaire"
   ]
  },
  {
   "cell_type": "markdown",
   "metadata": {},
   "source": [
    "<ul>\n",
    "<li>\n",
    "    <a href=\"#Modélisation\">Modélisation</a>\n",
    "    <ul>\n",
    "     <li><a href=\"#La-classe-set\">La classe set</a></li> \n",
    "     <li><a href=\"#\"></a></li> \n",
    "     <li><a href=\"#\"></a></li> \n",
    "     <li><a href=\"#\"></a></li> \n",
    "    </ul>\n",
    "</li>\n",
    "<li><a href=\"#L'ensemble-des-parties-d'un-ensemble\">L'ensemble des parties d'un ensemble</a></li>\n",
    "<li><a href=\"#Symboles-rigolos\">Produit cartésien</a></li>\n",
    "<li><a href=\"#Symboles-rigolos\">Symboles rigolos</a></li>\n",
    "</ul>"
   ]
  },
  {
   "cell_type": "markdown",
   "metadata": {},
   "source": [
    "## Modélisation"
   ]
  },
  {
   "cell_type": "markdown",
   "metadata": {},
   "source": [
    "### La classe set"
   ]
  },
  {
   "cell_type": "code",
   "execution_count": 1,
   "metadata": {},
   "outputs": [
    {
     "name": "stdout",
     "output_type": "stream",
     "text": [
      "a = {1, 2, 3}\n",
      "b = {'B', 'A'}\n"
     ]
    }
   ],
   "source": [
    "# on peut faire un ensemble\n",
    "a = set([1,2,3])\n",
    "print(\"a =\",a)\n",
    "\n",
    "# même un deuxième ensemble\n",
    "b = set(['A', 'B'])\n",
    "print(\"b =\",b)"
   ]
  },
  {
   "cell_type": "code",
   "execution_count": 2,
   "metadata": {
    "scrolled": true
   },
   "outputs": [
    {
     "ename": "TypeError",
     "evalue": "unhashable type: 'set'",
     "output_type": "error",
     "traceback": [
      "\u001b[1;31m---------------------------------------------------------------------------\u001b[0m",
      "\u001b[1;31mTypeError\u001b[0m                                 Traceback (most recent call last)",
      "\u001b[1;32m<ipython-input-2-889b72cd0307>\u001b[0m in \u001b[0;36m<module>\u001b[1;34m\u001b[0m\n\u001b[0;32m      1\u001b[0m \u001b[1;31m# mais si on cherche à faire un ensemble d'ensembles...\u001b[0m\u001b[1;33m\u001b[0m\u001b[1;33m\u001b[0m\u001b[1;33m\u001b[0m\u001b[0m\n\u001b[1;32m----> 2\u001b[1;33m \u001b[0mc\u001b[0m \u001b[1;33m=\u001b[0m \u001b[0mset\u001b[0m\u001b[1;33m(\u001b[0m\u001b[1;33m[\u001b[0m\u001b[0ma\u001b[0m\u001b[1;33m,\u001b[0m\u001b[0mb\u001b[0m\u001b[1;33m]\u001b[0m\u001b[1;33m)\u001b[0m\u001b[1;33m\u001b[0m\u001b[1;33m\u001b[0m\u001b[0m\n\u001b[0m",
      "\u001b[1;31mTypeError\u001b[0m: unhashable type: 'set'"
     ]
    }
   ],
   "source": [
    "# mais si on cherche à faire un ensemble d'ensembles...\n",
    "c = set([a,b])"
   ]
  },
  {
   "cell_type": "markdown",
   "metadata": {},
   "source": [
    "On constate qu'un objet doit être \"hashable\" pour pouvoir être élément d'un \"set\", ce qu'un objet de type \"set\" n'est pas."
   ]
  },
  {
   "cell_type": "markdown",
   "metadata": {},
   "source": [
    "### La classe frozenset à la rescousse"
   ]
  },
  {
   "cell_type": "markdown",
   "metadata": {},
   "source": [
    "La classe \"frozenset\" dispose des mêmes méthodes que la classe \"set\" tout en étant \"hashable\". En outre un \"frozenset\" est immutable."
   ]
  },
  {
   "cell_type": "code",
   "execution_count": 3,
   "metadata": {},
   "outputs": [
    {
     "name": "stdout",
     "output_type": "stream",
     "text": [
      "a = frozenset({1, 2, 3})\n",
      "b = frozenset({'B', 'A'})\n",
      "c = frozenset({frozenset({1, 2, 3}), frozenset({'B', 'A'})})\n"
     ]
    }
   ],
   "source": [
    "# on peut faire un ensemble à l'aide d'un frozenset\n",
    "a = frozenset([1,2,3])\n",
    "print(\"a =\", a)\n",
    "\n",
    "# et même un deuxième\n",
    "b = frozenset(['A', 'B'])\n",
    "print(\"b =\", b)\n",
    "\n",
    "# et même un ensemble d'ensembles !\n",
    "c = frozenset([a,b])\n",
    "print(\"c =\", c)"
   ]
  },
  {
   "cell_type": "markdown",
   "metadata": {},
   "source": [
    "On peut faire des ensembles d'ensembles ! Mais l'affichage laisse à désirer..."
   ]
  },
  {
   "cell_type": "markdown",
   "metadata": {},
   "source": [
    "### La classe Ensemble"
   ]
  },
  {
   "cell_type": "code",
   "execution_count": 4,
   "metadata": {},
   "outputs": [
    {
     "name": "stdout",
     "output_type": "stream",
     "text": [
      "a = {1, 2}\n",
      "b = {b, a}\n"
     ]
    }
   ],
   "source": [
    "# étendons la classe frozenset\n",
    "class Ensemble(frozenset):\n",
    "    # en réécrire l'affichage\n",
    "    def __repr__(self):\n",
    "        return \"{\" + \", \".join(map(str,self)) + \"}\" # un frozenset est itérable\n",
    "    \n",
    "a = Ensemble([1,2])\n",
    "b = Ensemble(['a', 'b'])\n",
    "print(\"a =\",a)\n",
    "print(\"b =\",b)"
   ]
  },
  {
   "cell_type": "markdown",
   "metadata": {},
   "source": [
    "La représentation d'un ensemble est la même qu'en mathématiques désormais. Simplement, on aimerait ne pas avoir à passer une liste en paramètre du constructeur, mais directement les éléments."
   ]
  },
  {
   "cell_type": "code",
   "execution_count": 5,
   "metadata": {
    "scrolled": false
   },
   "outputs": [
    {
     "name": "stdout",
     "output_type": "stream",
     "text": [
      "a = {1, 2, 3}\n",
      "b = {b, a}\n",
      "c = {{1, 2, 3}, {b, a}, {}}\n"
     ]
    }
   ],
   "source": [
    "class Ensemble(frozenset):\n",
    "    # __new__ construit, puis __init__ initialise\n",
    "    def __new__(cls, *elements):\n",
    "        # elements est la liste des arguments positionnels !\n",
    "        return super().__new__(cls, elements)\n",
    "    def __repr__(self):\n",
    "        return \"{\" + \", \".join(map(str,self)) + \"}\"\n",
    "\n",
    "# construisons des ensembles sans les crochets\n",
    "a = Ensemble(1,2,3)\n",
    "b = Ensemble('a', 'b')\n",
    "c = Ensemble(a,b,Ensemble())\n",
    "print(\"a =\",a)\n",
    "print(\"b =\",b)\n",
    "print(\"c =\", c)"
   ]
  },
  {
   "cell_type": "markdown",
   "metadata": {},
   "source": [
    "### Quelques \"méthodes magiques\""
   ]
  },
  {
   "cell_type": "markdown",
   "metadata": {},
   "source": [
    "On aimerait pouvoir utiliser les opérations ensemblistes classiques. Ce qui est possible mais..."
   ]
  },
  {
   "cell_type": "code",
   "execution_count": 13,
   "metadata": {},
   "outputs": [
    {
     "name": "stdout",
     "output_type": "stream",
     "text": [
      "frozenset({1, 2, 3, 'b', 'a'})\n"
     ]
    }
   ],
   "source": [
    "print(a.union(b))"
   ]
  },
  {
   "cell_type": "markdown",
   "metadata": {},
   "source": [
    "On obtient une réunion de type \"frozenset\" :( . Remédions à cela."
   ]
  },
  {
   "cell_type": "code",
   "execution_count": 26,
   "metadata": {},
   "outputs": [
    {
     "name": "stdout",
     "output_type": "stream",
     "text": [
      "a.union(b) = {j, r, n, u, B, o, Toto, !}\n",
      "a|b = {j, r, n, u, B, o, Toto, !}\n"
     ]
    }
   ],
   "source": [
    "class Ensemble(frozenset):\n",
    "    def __new__(cls, *elements):\n",
    "        return super().__new__(cls, elements)\n",
    "    def __repr__(self):\n",
    "        return \"{\" + \", \".join(map(str,self)) + \"}\"\n",
    "    \n",
    "    # réécrivons l'union de deux ensembles\n",
    "    def union(self, autre):\n",
    "        return Ensemble(*frozenset.union(self, autre))\n",
    "    def __or__(self, autre):\n",
    "        return self.union(autre)\n",
    "    \n",
    "a = Ensemble(*\"Bonjour!\")\n",
    "b = Ensemble(\"Toto\")\n",
    "print(\"a.union(b) =\", a.union(b))\n",
    "print(\"a|b =\", a|b)"
   ]
  },
  {
   "cell_type": "markdown",
   "metadata": {},
   "source": [
    "## L'ensemble des parties d'un ensemble"
   ]
  },
  {
   "cell_type": "code",
   "execution_count": 23,
   "metadata": {},
   "outputs": [
    {
     "name": "stdout",
     "output_type": "stream",
     "text": [
      "{{20, 30}, {42, 20}, {42, 30}, {20}, {30}, {42}, {}, {42, 20, 30}}\n",
      "{{}, {{}}, {{}, {{}}}, {{{}}}}\n"
     ]
    }
   ],
   "source": [
    "class Ensemble(frozenset):\n",
    "    def __new__(cls, *elements):\n",
    "        return super().__new__(cls, elements)\n",
    "    def __repr__(self):\n",
    "        return \"{\" + \", \".join(map(str,self)) + \"}\"\n",
    "    def union(self, autre):\n",
    "        return Ensemble(*frozenset.union(self, autre))\n",
    "    def __or__(self, autre):\n",
    "        return self.union(autre)\n",
    "    # une méthode itérative pour l'ensemble des parties d'un ensemble\n",
    "    def parties(self):\n",
    "        ens = list(self) # on veut pouvoir utiliser les [] (subscriptable)\n",
    "        parties = []\n",
    "        n = len(self)\n",
    "        for i in range(2**n):\n",
    "            partie = [] \n",
    "            for j in range(n):\n",
    "                # le j-eme bit indique la présence dans la partie du j-eme élément\n",
    "                if (1 << j) & i :\n",
    "                    partie.append(ens[j])\n",
    "            parties.append(Ensemble(*partie))\n",
    "        return Ensemble(*parties)\n",
    "\n",
    "a = Ensemble(20, 30, 42)\n",
    "print(a.parties())\n",
    "print(Ensemble().parties().parties().parties())"
   ]
  },
  {
   "cell_type": "markdown",
   "metadata": {},
   "source": [
    "## Produit cartésien"
   ]
  },
  {
   "cell_type": "code",
   "execution_count": 14,
   "metadata": {},
   "outputs": [
    {
     "name": "stdout",
     "output_type": "stream",
     "text": [
      "{Ø, {(5, 20)}, {(5, 20), (5, 'A')}, {(5, 'A')}}\n"
     ]
    }
   ],
   "source": [
    "import ensembles.ensembles as ens\n",
    "\n",
    "a = ens.Ensemble(5)\n",
    "b = ens.Ensemble(20, 'A')\n",
    "\n",
    "print((a*b).parties())"
   ]
  },
  {
   "cell_type": "markdown",
   "metadata": {},
   "source": [
    "## Symboles rigolos"
   ]
  },
  {
   "cell_type": "code",
   "execution_count": 26,
   "metadata": {},
   "outputs": [
    {
     "name": "stdout",
     "output_type": "stream",
     "text": [
      "[Ø, {⚛}, {🐝}, {☕}, {🌻}, {🏈}, {🏈, 🌻}, {🏈, 🐝}, {🐝, ⚛}, {🐝, ☕}, {🐝, 🌻}, {🌻, ⚛}, {🏈, ⚛}, {🏈, ☕}, {☕, ⚛}, {🌻, ☕}, {🌻, ☕, ⚛}, {🐝, ☕, 🌻}, {🐝, ☕, ⚛}, {🏈, 🐝, ☕}, {🏈, 🐝, ⚛}, {🐝, ⚛, 🌻}, {🏈, 🌻, ☕}, {🏈, ☕, ⚛}, {🏈, 🌻, ⚛}, {🏈, 🐝, 🌻}, {🏈, 🐝, ☕, 🌻}, {🏈, 🐝, ⚛, 🌻}, {🏈, 🌻, ☕, ⚛}, {🏈, 🐝, ☕, ⚛}, {🐝, ☕, ⚛, 🌻}, {🏈, ☕, ⚛, 🐝, 🌻}]\n",
      "{('⚛', 36), ('🌻', 36), ('🏈', 4), ('🐝', 36), ('🐝', 4), ('🌻', 4), ('🏈', 36), ('☕', 36), ('☕', 4), ('⚛', 4)}\n"
     ]
    }
   ],
   "source": [
    "rigolos = ens.Ensemble('🌻','☕','⚛','🐝','🏈')\n",
    "print(sorted(list(rigolos.parties()),key=len))\n",
    "print(rigolos*ens.Ensemble(4,36))"
   ]
  },
  {
   "cell_type": "markdown",
   "metadata": {},
   "source": [
    "<a href=\"#Sommaire\">Sommaire</a>"
   ]
  }
 ],
 "metadata": {
  "kernelspec": {
   "display_name": "Python 3",
   "language": "python",
   "name": "python3"
  },
  "language_info": {
   "codemirror_mode": {
    "name": "ipython",
    "version": 3
   },
   "file_extension": ".py",
   "mimetype": "text/x-python",
   "name": "python",
   "nbconvert_exporter": "python",
   "pygments_lexer": "ipython3",
   "version": "3.8.3"
  }
 },
 "nbformat": 4,
 "nbformat_minor": 4
}
